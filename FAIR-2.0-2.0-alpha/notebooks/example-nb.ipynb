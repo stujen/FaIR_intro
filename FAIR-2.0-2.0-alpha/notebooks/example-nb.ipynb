{
 "cells": [
  {
   "cell_type": "markdown",
   "id": "million-alpha",
   "metadata": {},
   "source": [
    "## Import dependencies"
   ]
  },
  {
   "cell_type": "code",
   "execution_count": 1,
   "id": "shared-recorder",
   "metadata": {},
   "outputs": [
    {
     "ename": "ModuleNotFoundError",
     "evalue": "No module named 'fair'",
     "output_type": "error",
     "traceback": [
      "\u001b[0;31m---------------------------------------------------------------------------\u001b[0m",
      "\u001b[0;31mModuleNotFoundError\u001b[0m                       Traceback (most recent call last)",
      "\u001b[0;32m<ipython-input-1-2fb35dc07c61>\u001b[0m in \u001b[0;36m<module>\u001b[0;34m\u001b[0m\n\u001b[1;32m      5\u001b[0m \u001b[0;32mimport\u001b[0m \u001b[0mseaborn\u001b[0m \u001b[0;32mas\u001b[0m \u001b[0msn\u001b[0m\u001b[0;34m\u001b[0m\u001b[0;34m\u001b[0m\u001b[0m\n\u001b[1;32m      6\u001b[0m \u001b[0;34m\u001b[0m\u001b[0m\n\u001b[0;32m----> 7\u001b[0;31m \u001b[0;32mfrom\u001b[0m \u001b[0mfair\u001b[0m \u001b[0;32mimport\u001b[0m \u001b[0;34m*\u001b[0m\u001b[0;34m\u001b[0m\u001b[0;34m\u001b[0m\u001b[0m\n\u001b[0m\u001b[1;32m      8\u001b[0m \u001b[0;34m\u001b[0m\u001b[0m\n\u001b[1;32m      9\u001b[0m \u001b[0mget_ipython\u001b[0m\u001b[0;34m(\u001b[0m\u001b[0;34m)\u001b[0m\u001b[0;34m.\u001b[0m\u001b[0mrun_line_magic\u001b[0m\u001b[0;34m(\u001b[0m\u001b[0;34m'matplotlib'\u001b[0m\u001b[0;34m,\u001b[0m \u001b[0;34m'inline'\u001b[0m\u001b[0;34m)\u001b[0m\u001b[0;34m\u001b[0m\u001b[0;34m\u001b[0m\u001b[0m\n",
      "\u001b[0;31mModuleNotFoundError\u001b[0m: No module named 'fair'"
     ]
    }
   ],
   "source": [
    "import numpy as np\n",
    "import sys\n",
    "import pandas as pd\n",
    "import matplotlib.pyplot as plt\n",
    "import seaborn as sn\n",
    "\n",
    "from fair import *\n",
    "\n",
    "%matplotlib inline"
   ]
  },
  {
   "cell_type": "markdown",
   "id": "shared-plain",
   "metadata": {},
   "source": [
    "# Running FaIRv2.0.0-alpha"
   ]
  },
  {
   "cell_type": "markdown",
   "id": "infectious-arrow",
   "metadata": {},
   "source": [
    "### 1. Create FaIR compatible inputs\n",
    "\n",
    "- FaIR uses a multi-index pandas dataframe structure for its input. These are largely identical to normal dataframes, but with some added nuances to using them properly.\n",
    "- It uses this structure to require users to keep track of the scenarios they wish to run."
   ]
  },
  {
   "cell_type": "markdown",
   "id": "statistical-prerequisite",
   "metadata": {},
   "source": [
    "#### Emission and forcing inputs"
   ]
  },
  {
   "cell_type": "code",
   "execution_count": 2,
   "id": "intended-ambassador",
   "metadata": {},
   "outputs": [
    {
     "data": {
      "text/html": [
       "<div>\n",
       "<style scoped>\n",
       "    .dataframe tbody tr th:only-of-type {\n",
       "        vertical-align: middle;\n",
       "    }\n",
       "\n",
       "    .dataframe tbody tr th {\n",
       "        vertical-align: top;\n",
       "    }\n",
       "\n",
       "    .dataframe thead tr th {\n",
       "        text-align: left;\n",
       "    }\n",
       "\n",
       "    .dataframe thead tr:last-of-type th {\n",
       "        text-align: right;\n",
       "    }\n",
       "</style>\n",
       "<table border=\"1\" class=\"dataframe\">\n",
       "  <thead>\n",
       "    <tr>\n",
       "      <th>Scenario</th>\n",
       "      <th colspan=\"3\" halign=\"left\">Test</th>\n",
       "    </tr>\n",
       "    <tr>\n",
       "      <th>Gas</th>\n",
       "      <th>carbon_dioxide</th>\n",
       "      <th>methane</th>\n",
       "      <th>nitrous_oxide</th>\n",
       "    </tr>\n",
       "    <tr>\n",
       "      <th>Year</th>\n",
       "      <th></th>\n",
       "      <th></th>\n",
       "      <th></th>\n",
       "    </tr>\n",
       "  </thead>\n",
       "  <tbody>\n",
       "    <tr>\n",
       "      <th>0</th>\n",
       "      <td>0</td>\n",
       "      <td>0</td>\n",
       "      <td>0</td>\n",
       "    </tr>\n",
       "    <tr>\n",
       "      <th>1</th>\n",
       "      <td>0</td>\n",
       "      <td>0</td>\n",
       "      <td>0</td>\n",
       "    </tr>\n",
       "    <tr>\n",
       "      <th>2</th>\n",
       "      <td>0</td>\n",
       "      <td>0</td>\n",
       "      <td>0</td>\n",
       "    </tr>\n",
       "    <tr>\n",
       "      <th>3</th>\n",
       "      <td>0</td>\n",
       "      <td>0</td>\n",
       "      <td>0</td>\n",
       "    </tr>\n",
       "    <tr>\n",
       "      <th>4</th>\n",
       "      <td>0</td>\n",
       "      <td>0</td>\n",
       "      <td>0</td>\n",
       "    </tr>\n",
       "  </tbody>\n",
       "</table>\n",
       "</div>"
      ],
      "text/plain": [
       "Scenario           Test                      \n",
       "Gas      carbon_dioxide methane nitrous_oxide\n",
       "Year                                         \n",
       "0                     0       0             0\n",
       "1                     0       0             0\n",
       "2                     0       0             0\n",
       "3                     0       0             0\n",
       "4                     0       0             0"
      ]
     },
     "execution_count": 2,
     "metadata": {},
     "output_type": "execute_result"
    }
   ],
   "source": [
    "# The following function returns an empty dataframe in the correct format for use in FaIR.\n",
    "\n",
    "test_emissions = return_empty_emissions(df_to_copy=False, start_year=0, end_year=100, timestep=1, scen_names=['Test'], gases_in = ['carbon_dioxide','methane','nitrous_oxide'])\n",
    "\n",
    "# Although here we demonstrate using FaIR in emissions driven mode, an identical format dataframe is used for concentrations driven mode.\n",
    "\n",
    "# create an empty forcing dataframe compatible with test_emissions:\n",
    "\n",
    "test_forcing = return_empty_forcing(test_emissions)\n",
    "\n",
    "# Note that the scenario names in the emissions and forcing dataframe must be identical for the model to run: FaIR assumes each emissions scenario corresponds directly to a single forcing scenario.\n",
    "\n",
    "test_emissions.head()"
   ]
  },
  {
   "cell_type": "code",
   "execution_count": 3,
   "id": "built-techno",
   "metadata": {},
   "outputs": [],
   "source": [
    "# Although these functions have been created for ease of use, to create a compatible dataframe from scratch, use the following commands:\n",
    "\n",
    "empty_array = np.zeros(101)\n",
    "\n",
    "test_emissions = pd.DataFrame({'carbon_dioxide':empty_array,'methane':empty_array,'nitrous_oxide':empty_array},index= np.arange(101))\n",
    "test_emissions = pd.concat([test_emissions],keys=['Test'],axis=1)"
   ]
  },
  {
   "cell_type": "markdown",
   "id": "encouraging-program",
   "metadata": {},
   "source": [
    "#### Parameter inputs\n",
    "\n",
    "- If these are not provided, FaIR will automatically use its default parameters"
   ]
  },
  {
   "cell_type": "code",
   "execution_count": 4,
   "id": "endangered-cruise",
   "metadata": {},
   "outputs": [
    {
     "data": {
      "text/html": [
       "<div>\n",
       "<style scoped>\n",
       "    .dataframe tbody tr th:only-of-type {\n",
       "        vertical-align: middle;\n",
       "    }\n",
       "\n",
       "    .dataframe tbody tr th {\n",
       "        vertical-align: top;\n",
       "    }\n",
       "\n",
       "    .dataframe thead tr th {\n",
       "        text-align: left;\n",
       "    }\n",
       "</style>\n",
       "<table border=\"1\" class=\"dataframe\">\n",
       "  <thead>\n",
       "    <tr>\n",
       "      <th></th>\n",
       "      <th colspan=\"21\" halign=\"left\">default</th>\n",
       "    </tr>\n",
       "    <tr>\n",
       "      <th></th>\n",
       "      <th>bc</th>\n",
       "      <th>bc|aci</th>\n",
       "      <th>bc|bc_on_snow</th>\n",
       "      <th>c2f6</th>\n",
       "      <th>c3f8</th>\n",
       "      <th>c4f10</th>\n",
       "      <th>c5f12</th>\n",
       "      <th>c6f14</th>\n",
       "      <th>c7f16</th>\n",
       "      <th>c8f18</th>\n",
       "      <th>...</th>\n",
       "      <th>nox</th>\n",
       "      <th>nox_avi</th>\n",
       "      <th>nox_avi|contrails</th>\n",
       "      <th>nox|o3</th>\n",
       "      <th>oc</th>\n",
       "      <th>oc|aci</th>\n",
       "      <th>sf6</th>\n",
       "      <th>so2</th>\n",
       "      <th>so2f2</th>\n",
       "      <th>so2|aci</th>\n",
       "    </tr>\n",
       "  </thead>\n",
       "  <tbody>\n",
       "    <tr>\n",
       "      <th>a1</th>\n",
       "      <td>1.0</td>\n",
       "      <td>NaN</td>\n",
       "      <td>NaN</td>\n",
       "      <td>1.0</td>\n",
       "      <td>1.0</td>\n",
       "      <td>1.0</td>\n",
       "      <td>1.0</td>\n",
       "      <td>1.0</td>\n",
       "      <td>1.0</td>\n",
       "      <td>1.0</td>\n",
       "      <td>...</td>\n",
       "      <td>1.0</td>\n",
       "      <td>1.0</td>\n",
       "      <td>NaN</td>\n",
       "      <td>NaN</td>\n",
       "      <td>1.0</td>\n",
       "      <td>NaN</td>\n",
       "      <td>1.0</td>\n",
       "      <td>1.0</td>\n",
       "      <td>1.00</td>\n",
       "      <td>NaN</td>\n",
       "    </tr>\n",
       "    <tr>\n",
       "      <th>a2</th>\n",
       "      <td>0.0</td>\n",
       "      <td>NaN</td>\n",
       "      <td>NaN</td>\n",
       "      <td>0.0</td>\n",
       "      <td>0.0</td>\n",
       "      <td>0.0</td>\n",
       "      <td>0.0</td>\n",
       "      <td>0.0</td>\n",
       "      <td>0.0</td>\n",
       "      <td>0.0</td>\n",
       "      <td>...</td>\n",
       "      <td>0.0</td>\n",
       "      <td>0.0</td>\n",
       "      <td>NaN</td>\n",
       "      <td>NaN</td>\n",
       "      <td>0.0</td>\n",
       "      <td>NaN</td>\n",
       "      <td>0.0</td>\n",
       "      <td>0.0</td>\n",
       "      <td>0.00</td>\n",
       "      <td>NaN</td>\n",
       "    </tr>\n",
       "    <tr>\n",
       "      <th>a3</th>\n",
       "      <td>0.0</td>\n",
       "      <td>NaN</td>\n",
       "      <td>NaN</td>\n",
       "      <td>0.0</td>\n",
       "      <td>0.0</td>\n",
       "      <td>0.0</td>\n",
       "      <td>0.0</td>\n",
       "      <td>0.0</td>\n",
       "      <td>0.0</td>\n",
       "      <td>0.0</td>\n",
       "      <td>...</td>\n",
       "      <td>0.0</td>\n",
       "      <td>0.0</td>\n",
       "      <td>NaN</td>\n",
       "      <td>NaN</td>\n",
       "      <td>0.0</td>\n",
       "      <td>NaN</td>\n",
       "      <td>0.0</td>\n",
       "      <td>0.0</td>\n",
       "      <td>0.00</td>\n",
       "      <td>NaN</td>\n",
       "    </tr>\n",
       "    <tr>\n",
       "      <th>a4</th>\n",
       "      <td>0.0</td>\n",
       "      <td>NaN</td>\n",
       "      <td>NaN</td>\n",
       "      <td>0.0</td>\n",
       "      <td>0.0</td>\n",
       "      <td>0.0</td>\n",
       "      <td>0.0</td>\n",
       "      <td>0.0</td>\n",
       "      <td>0.0</td>\n",
       "      <td>0.0</td>\n",
       "      <td>...</td>\n",
       "      <td>0.0</td>\n",
       "      <td>0.0</td>\n",
       "      <td>NaN</td>\n",
       "      <td>NaN</td>\n",
       "      <td>0.0</td>\n",
       "      <td>NaN</td>\n",
       "      <td>0.0</td>\n",
       "      <td>0.0</td>\n",
       "      <td>0.00</td>\n",
       "      <td>NaN</td>\n",
       "    </tr>\n",
       "    <tr>\n",
       "      <th>tau1</th>\n",
       "      <td>1.0</td>\n",
       "      <td>NaN</td>\n",
       "      <td>NaN</td>\n",
       "      <td>100.0</td>\n",
       "      <td>26.0</td>\n",
       "      <td>26.0</td>\n",
       "      <td>41.0</td>\n",
       "      <td>31.0</td>\n",
       "      <td>30.0</td>\n",
       "      <td>30.0</td>\n",
       "      <td>...</td>\n",
       "      <td>1.0</td>\n",
       "      <td>1.0</td>\n",
       "      <td>NaN</td>\n",
       "      <td>NaN</td>\n",
       "      <td>1.0</td>\n",
       "      <td>NaN</td>\n",
       "      <td>32.0</td>\n",
       "      <td>1.0</td>\n",
       "      <td>0.36</td>\n",
       "      <td>NaN</td>\n",
       "    </tr>\n",
       "  </tbody>\n",
       "</table>\n",
       "<p>5 rows × 81 columns</p>\n",
       "</div>"
      ],
      "text/plain": [
       "     default                                                                  \\\n",
       "          bc bc|aci bc|bc_on_snow   c2f6  c3f8 c4f10 c5f12 c6f14 c7f16 c8f18   \n",
       "a1       1.0    NaN           NaN    1.0   1.0   1.0   1.0   1.0   1.0   1.0   \n",
       "a2       0.0    NaN           NaN    0.0   0.0   0.0   0.0   0.0   0.0   0.0   \n",
       "a3       0.0    NaN           NaN    0.0   0.0   0.0   0.0   0.0   0.0   0.0   \n",
       "a4       0.0    NaN           NaN    0.0   0.0   0.0   0.0   0.0   0.0   0.0   \n",
       "tau1     1.0    NaN           NaN  100.0  26.0  26.0  41.0  31.0  30.0  30.0   \n",
       "\n",
       "      ...                                                                     \\\n",
       "      ...  nox nox_avi nox_avi|contrails nox|o3   oc oc|aci   sf6  so2 so2f2   \n",
       "a1    ...  1.0     1.0               NaN    NaN  1.0    NaN   1.0  1.0  1.00   \n",
       "a2    ...  0.0     0.0               NaN    NaN  0.0    NaN   0.0  0.0  0.00   \n",
       "a3    ...  0.0     0.0               NaN    NaN  0.0    NaN   0.0  0.0  0.00   \n",
       "a4    ...  0.0     0.0               NaN    NaN  0.0    NaN   0.0  0.0  0.00   \n",
       "tau1  ...  1.0     1.0               NaN    NaN  1.0    NaN  32.0  1.0  0.36   \n",
       "\n",
       "              \n",
       "     so2|aci  \n",
       "a1       NaN  \n",
       "a2       NaN  \n",
       "a3       NaN  \n",
       "a4       NaN  \n",
       "tau1     NaN  \n",
       "\n",
       "[5 rows x 81 columns]"
      ]
     },
     "execution_count": 4,
     "metadata": {},
     "output_type": "execute_result"
    }
   ],
   "source": [
    "# Generate a default parameter dataframe:\n",
    "\n",
    "test_gas_parameters = get_gas_parameter_defaults()\n",
    "\n",
    "test_thermal_parameters = get_thermal_parameter_defaults()\n",
    "\n",
    "# This is what the gas parameter dataframe looks like:\n",
    "test_gas_parameters.head()"
   ]
  },
  {
   "cell_type": "markdown",
   "id": "according-hampshire",
   "metadata": {},
   "source": [
    "we need to reindex this to only include the gas species in our emissions dataframe"
   ]
  },
  {
   "cell_type": "code",
   "execution_count": 5,
   "id": "perceived-macintosh",
   "metadata": {},
   "outputs": [],
   "source": [
    "test_gas_parameters = test_gas_parameters.reindex(test_emissions.columns.levels[1],axis=1,level=1)"
   ]
  },
  {
   "cell_type": "code",
   "execution_count": 6,
   "id": "asian-junction",
   "metadata": {},
   "outputs": [
    {
     "data": {
      "text/html": [
       "<div>\n",
       "<style scoped>\n",
       "    .dataframe tbody tr th:only-of-type {\n",
       "        vertical-align: middle;\n",
       "    }\n",
       "\n",
       "    .dataframe tbody tr th {\n",
       "        vertical-align: top;\n",
       "    }\n",
       "\n",
       "    .dataframe thead tr th {\n",
       "        text-align: left;\n",
       "    }\n",
       "</style>\n",
       "<table border=\"1\" class=\"dataframe\">\n",
       "  <thead>\n",
       "    <tr>\n",
       "      <th></th>\n",
       "      <th colspan=\"3\" halign=\"left\">default</th>\n",
       "    </tr>\n",
       "    <tr>\n",
       "      <th></th>\n",
       "      <th>1</th>\n",
       "      <th>2</th>\n",
       "      <th>3</th>\n",
       "    </tr>\n",
       "  </thead>\n",
       "  <tbody>\n",
       "    <tr>\n",
       "      <th>d</th>\n",
       "      <td>0.903</td>\n",
       "      <td>7.920000</td>\n",
       "      <td>355.000000</td>\n",
       "    </tr>\n",
       "    <tr>\n",
       "      <th>q</th>\n",
       "      <td>0.180</td>\n",
       "      <td>0.296755</td>\n",
       "      <td>0.385908</td>\n",
       "    </tr>\n",
       "  </tbody>\n",
       "</table>\n",
       "</div>"
      ],
      "text/plain": [
       "  default                      \n",
       "        1         2           3\n",
       "d   0.903  7.920000  355.000000\n",
       "q   0.180  0.296755    0.385908"
      ]
     },
     "execution_count": 6,
     "metadata": {},
     "output_type": "execute_result"
    }
   ],
   "source": [
    "# This is what the thermal parameter dataframe looks like:\n",
    "test_thermal_parameters"
   ]
  },
  {
   "cell_type": "code",
   "execution_count": 7,
   "id": "municipal-butler",
   "metadata": {},
   "outputs": [
    {
     "data": {
      "text/html": [
       "<div>\n",
       "<style scoped>\n",
       "    .dataframe tbody tr th:only-of-type {\n",
       "        vertical-align: middle;\n",
       "    }\n",
       "\n",
       "    .dataframe tbody tr th {\n",
       "        vertical-align: top;\n",
       "    }\n",
       "\n",
       "    .dataframe thead th {\n",
       "        text-align: right;\n",
       "    }\n",
       "</style>\n",
       "<table border=\"1\" class=\"dataframe\">\n",
       "  <thead>\n",
       "    <tr style=\"text-align: right;\">\n",
       "      <th></th>\n",
       "      <th></th>\n",
       "      <th>a1</th>\n",
       "      <th>a2</th>\n",
       "      <th>a3</th>\n",
       "      <th>a4</th>\n",
       "      <th>tau1</th>\n",
       "      <th>tau2</th>\n",
       "      <th>tau3</th>\n",
       "      <th>tau4</th>\n",
       "      <th>r0</th>\n",
       "      <th>rC</th>\n",
       "      <th>rT</th>\n",
       "      <th>rA</th>\n",
       "      <th>PI_conc</th>\n",
       "      <th>emis2conc</th>\n",
       "      <th>f1</th>\n",
       "      <th>f2</th>\n",
       "      <th>f3</th>\n",
       "    </tr>\n",
       "  </thead>\n",
       "  <tbody>\n",
       "    <tr>\n",
       "      <th>default</th>\n",
       "      <th>c8f18</th>\n",
       "      <td>1.0</td>\n",
       "      <td>0.0</td>\n",
       "      <td>0.0</td>\n",
       "      <td>0.0</td>\n",
       "      <td>30.0</td>\n",
       "      <td>1.0</td>\n",
       "      <td>1.0</td>\n",
       "      <td>1.0</td>\n",
       "      <td>145.72786</td>\n",
       "      <td>0.0</td>\n",
       "      <td>0.0</td>\n",
       "      <td>0.0</td>\n",
       "      <td>1.000000e-15</td>\n",
       "      <td>0.012844</td>\n",
       "      <td>0.0</td>\n",
       "      <td>0.55</td>\n",
       "      <td>0.0</td>\n",
       "    </tr>\n",
       "  </tbody>\n",
       "</table>\n",
       "</div>"
      ],
      "text/plain": [
       "                a1   a2   a3   a4  tau1  tau2  tau3  tau4         r0   rC  \\\n",
       "default c8f18  1.0  0.0  0.0  0.0  30.0   1.0   1.0   1.0  145.72786  0.0   \n",
       "\n",
       "                rT   rA       PI_conc  emis2conc   f1    f2   f3  \n",
       "default c8f18  0.0  0.0  1.000000e-15   0.012844  0.0  0.55  0.0  "
      ]
     },
     "execution_count": 7,
     "metadata": {},
     "output_type": "execute_result"
    }
   ],
   "source": [
    "# This allows you to check the parameters for any of the species available in return_gas_namelist()\n",
    "\n",
    "get_gas_parameter_defaults(['c8f18']).T"
   ]
  },
  {
   "cell_type": "markdown",
   "id": "retired-benchmark",
   "metadata": {},
   "source": [
    "### 2. Running FaIR"
   ]
  },
  {
   "cell_type": "code",
   "execution_count": 8,
   "id": "martial-liabilities",
   "metadata": {},
   "outputs": [
    {
     "name": "stdout",
     "output_type": "stream",
     "text": [
      "Integrating 4 scenarios, 1 gas cycle parameter sets, 1 thermal response parameter sets, over ['carbon_dioxide', 'methane', 'nitrous_oxide'] forcing agents, between 0 and 100...\n"
     ]
    },
    {
     "name": "stderr",
     "output_type": "stream",
     "text": [
      "100%|██████████| 100/100 [00:00<00:00, 2270.75 timestep/s]\n"
     ]
    }
   ],
   "source": [
    "# Let's carry out a few basic runs now, starting with pulse emissions for each gas.\n",
    "\n",
    "# First generate an empty emissions dataframe with four different scenarios\n",
    "\n",
    "pulse_emissions = return_empty_emissions(df_to_copy=False, start_year=0, end_year=100, timestep=1, scen_names=['None']+[x+'pulse' for x in ['carbon_dioxide','methane','nitrous_oxide']], gases_in = ['carbon_dioxide','methane','nitrous_oxide'])\n",
    "\n",
    "# add pulses in year 10 (the units are GtC, MtCH4 and MtN2O-N2):\n",
    "\n",
    "for gas in ['carbon_dioxide','methane','nitrous_oxide']:\n",
    "    \n",
    "    pulse_emissions.loc[10,(gas+'pulse',gas)] += 10\n",
    "    \n",
    "# Now generate a compatible forcing dataframe:\n",
    "\n",
    "pulse_forcing = return_empty_forcing(pulse_emissions)\n",
    "\n",
    "# And run the model!\n",
    "\n",
    "pulse_run = run_FaIR(emissions_in=pulse_emissions,forcing_in=pulse_forcing,gas_parameters=test_gas_parameters,thermal_parameters=test_thermal_parameters)"
   ]
  },
  {
   "cell_type": "code",
   "execution_count": 9,
   "id": "urban-tracker",
   "metadata": {},
   "outputs": [
    {
     "name": "stdout",
     "output_type": "stream",
     "text": [
      "Diagnosed variables: ['C', 'RF', 'T', 'alpha', 'Emissions', 'gas_parameters', 'thermal parameters']\n"
     ]
    }
   ],
   "source": [
    "# FaIR outputs a dictionary of the variables it diagnoses & inputs on each run:\n",
    "\n",
    "print('Diagnosed variables:',list(pulse_run.keys()))"
   ]
  },
  {
   "cell_type": "code",
   "execution_count": 10,
   "id": "central-denial",
   "metadata": {},
   "outputs": [
    {
     "data": {
      "text/html": [
       "<div>\n",
       "<style scoped>\n",
       "    .dataframe tbody tr th:only-of-type {\n",
       "        vertical-align: middle;\n",
       "    }\n",
       "\n",
       "    .dataframe tbody tr th {\n",
       "        vertical-align: top;\n",
       "    }\n",
       "\n",
       "    .dataframe thead tr th {\n",
       "        text-align: left;\n",
       "    }\n",
       "\n",
       "    .dataframe thead tr:last-of-type th {\n",
       "        text-align: right;\n",
       "    }\n",
       "</style>\n",
       "<table border=\"1\" class=\"dataframe\">\n",
       "  <thead>\n",
       "    <tr>\n",
       "      <th>Scenario</th>\n",
       "      <th colspan=\"3\" halign=\"left\">None</th>\n",
       "      <th colspan=\"3\" halign=\"left\">carbon_dioxidepulse</th>\n",
       "      <th colspan=\"3\" halign=\"left\">methanepulse</th>\n",
       "      <th colspan=\"3\" halign=\"left\">nitrous_oxidepulse</th>\n",
       "    </tr>\n",
       "    <tr>\n",
       "      <th>Gas cycle set</th>\n",
       "      <th colspan=\"3\" halign=\"left\">default</th>\n",
       "      <th colspan=\"3\" halign=\"left\">default</th>\n",
       "      <th colspan=\"3\" halign=\"left\">default</th>\n",
       "      <th colspan=\"3\" halign=\"left\">default</th>\n",
       "    </tr>\n",
       "    <tr>\n",
       "      <th>Gas name</th>\n",
       "      <th>carbon_dioxide</th>\n",
       "      <th>methane</th>\n",
       "      <th>nitrous_oxide</th>\n",
       "      <th>carbon_dioxide</th>\n",
       "      <th>methane</th>\n",
       "      <th>nitrous_oxide</th>\n",
       "      <th>carbon_dioxide</th>\n",
       "      <th>methane</th>\n",
       "      <th>nitrous_oxide</th>\n",
       "      <th>carbon_dioxide</th>\n",
       "      <th>methane</th>\n",
       "      <th>nitrous_oxide</th>\n",
       "    </tr>\n",
       "    <tr>\n",
       "      <th>Year</th>\n",
       "      <th></th>\n",
       "      <th></th>\n",
       "      <th></th>\n",
       "      <th></th>\n",
       "      <th></th>\n",
       "      <th></th>\n",
       "      <th></th>\n",
       "      <th></th>\n",
       "      <th></th>\n",
       "      <th></th>\n",
       "      <th></th>\n",
       "      <th></th>\n",
       "    </tr>\n",
       "  </thead>\n",
       "  <tbody>\n",
       "    <tr>\n",
       "      <th>0</th>\n",
       "      <td>278.0</td>\n",
       "      <td>720.0</td>\n",
       "      <td>270.0</td>\n",
       "      <td>278.0</td>\n",
       "      <td>720.0</td>\n",
       "      <td>270.0</td>\n",
       "      <td>278.0</td>\n",
       "      <td>720.0</td>\n",
       "      <td>270.0</td>\n",
       "      <td>278.0</td>\n",
       "      <td>720.0</td>\n",
       "      <td>270.0</td>\n",
       "    </tr>\n",
       "    <tr>\n",
       "      <th>1</th>\n",
       "      <td>278.0</td>\n",
       "      <td>720.0</td>\n",
       "      <td>270.0</td>\n",
       "      <td>278.0</td>\n",
       "      <td>720.0</td>\n",
       "      <td>270.0</td>\n",
       "      <td>278.0</td>\n",
       "      <td>720.0</td>\n",
       "      <td>270.0</td>\n",
       "      <td>278.0</td>\n",
       "      <td>720.0</td>\n",
       "      <td>270.0</td>\n",
       "    </tr>\n",
       "    <tr>\n",
       "      <th>2</th>\n",
       "      <td>278.0</td>\n",
       "      <td>720.0</td>\n",
       "      <td>270.0</td>\n",
       "      <td>278.0</td>\n",
       "      <td>720.0</td>\n",
       "      <td>270.0</td>\n",
       "      <td>278.0</td>\n",
       "      <td>720.0</td>\n",
       "      <td>270.0</td>\n",
       "      <td>278.0</td>\n",
       "      <td>720.0</td>\n",
       "      <td>270.0</td>\n",
       "    </tr>\n",
       "    <tr>\n",
       "      <th>3</th>\n",
       "      <td>278.0</td>\n",
       "      <td>720.0</td>\n",
       "      <td>270.0</td>\n",
       "      <td>278.0</td>\n",
       "      <td>720.0</td>\n",
       "      <td>270.0</td>\n",
       "      <td>278.0</td>\n",
       "      <td>720.0</td>\n",
       "      <td>270.0</td>\n",
       "      <td>278.0</td>\n",
       "      <td>720.0</td>\n",
       "      <td>270.0</td>\n",
       "    </tr>\n",
       "    <tr>\n",
       "      <th>4</th>\n",
       "      <td>278.0</td>\n",
       "      <td>720.0</td>\n",
       "      <td>270.0</td>\n",
       "      <td>278.0</td>\n",
       "      <td>720.0</td>\n",
       "      <td>270.0</td>\n",
       "      <td>278.0</td>\n",
       "      <td>720.0</td>\n",
       "      <td>270.0</td>\n",
       "      <td>278.0</td>\n",
       "      <td>720.0</td>\n",
       "      <td>270.0</td>\n",
       "    </tr>\n",
       "  </tbody>\n",
       "</table>\n",
       "</div>"
      ],
      "text/plain": [
       "Scenario                None                       carbon_dioxidepulse  \\\n",
       "Gas cycle set        default                                   default   \n",
       "Gas name      carbon_dioxide methane nitrous_oxide      carbon_dioxide   \n",
       "Year                                                                     \n",
       "0                      278.0   720.0         270.0               278.0   \n",
       "1                      278.0   720.0         270.0               278.0   \n",
       "2                      278.0   720.0         270.0               278.0   \n",
       "3                      278.0   720.0         270.0               278.0   \n",
       "4                      278.0   720.0         270.0               278.0   \n",
       "\n",
       "Scenario                              methanepulse                        \\\n",
       "Gas cycle set                              default                         \n",
       "Gas name      methane nitrous_oxide carbon_dioxide methane nitrous_oxide   \n",
       "Year                                                                       \n",
       "0               720.0         270.0          278.0   720.0         270.0   \n",
       "1               720.0         270.0          278.0   720.0         270.0   \n",
       "2               720.0         270.0          278.0   720.0         270.0   \n",
       "3               720.0         270.0          278.0   720.0         270.0   \n",
       "4               720.0         270.0          278.0   720.0         270.0   \n",
       "\n",
       "Scenario      nitrous_oxidepulse                        \n",
       "Gas cycle set            default                        \n",
       "Gas name          carbon_dioxide methane nitrous_oxide  \n",
       "Year                                                    \n",
       "0                          278.0   720.0         270.0  \n",
       "1                          278.0   720.0         270.0  \n",
       "2                          278.0   720.0         270.0  \n",
       "3                          278.0   720.0         270.0  \n",
       "4                          278.0   720.0         270.0  "
      ]
     },
     "execution_count": 10,
     "metadata": {},
     "output_type": "execute_result"
    }
   ],
   "source": [
    "# For example, let's look at the simulated concentrations from FaIR:\n",
    "\n",
    "# FaIR keeps track in the dataframe of exactly which scenario, gas parameters and thermal parameters correspond to in the output:\n",
    "## nb. here gas parameter and thermal parameters had identical indices so were assumed to be degenerate\n",
    "pulse_run['C'].head()"
   ]
  },
  {
   "cell_type": "code",
   "execution_count": 11,
   "id": "unusual-update",
   "metadata": {},
   "outputs": [
    {
     "data": {
      "text/plain": [
       "<matplotlib.legend.Legend at 0x7f59d23d67d0>"
      ]
     },
     "execution_count": 11,
     "metadata": {},
     "output_type": "execute_result"
    },
    {
     "data": {
      "image/png": "[encoded data removed]",
      "text/plain": [
       "<Figure size 1080x360 with 3 Axes>"
      ]
     },
     "metadata": {
      "needs_background": "light"
     },
     "output_type": "display_data"
    }
   ],
   "source": [
    "# Example of plotting the various scenarios against one another (also note .xs, a very handy pandas function for multi-index dataframes):\n",
    "\n",
    "fig,ax = plt.subplots(1,3,figsize=(15,5))\n",
    "\n",
    "for i,gas in enumerate(['carbon_dioxide','methane','nitrous_oxide']):\n",
    "    \n",
    "    pulse_run['C'].xs(gas,level=-1,axis=1).plot(ax=ax[i],legend=False)\n",
    "    \n",
    "ax[0].legend()"
   ]
  },
  {
   "cell_type": "markdown",
   "id": "advanced-worst",
   "metadata": {},
   "source": [
    "## Overview of I/O structure\n",
    "- The corresponding indices of each input dataframe must match or an error will occur:\n",
    "    - SCENARIO in emissions_in / concentrations_in / forcing_in\n",
    "    - GAS_NAMES in emissions_in / concentrations_in / gas_parameters\n",
    "- If the indices of any unmatched dimensions are identical, the model will assume these dimensions are degenerate. (so if you run 3 gas parameter sets called ['high','middle','low'] with 3 thermal parameter sets called ['high','middle','low'], the model will remove one dimension & match up the sets (running 3 simulations instead of 9)."
   ]
  },
  {
   "cell_type": "markdown",
   "id": "quarterly-credit",
   "metadata": {},
   "source": [
    "# Forcing-only example"
   ]
  },
  {
   "cell_type": "code",
   "execution_count": 12,
   "id": "hindu-client",
   "metadata": {},
   "outputs": [
    {
     "name": "stdout",
     "output_type": "stream",
     "text": [
      "Integrating 1 scenarios, 1 gas cycle parameter sets, 1 thermal response parameter sets, over ['bc', 'bc|aci', 'bc|bc_on_snow', 'c2f6', 'c3f8', 'c4f10', 'c5f12', 'c6f14', 'c7f16', 'c8f18', 'c_c4f8', 'carbon_dioxide', 'carbon_tetrachloride', 'carbon_tetrachloride|o3', 'cf4', 'cfc11', 'cfc113', 'cfc113|o3', 'cfc114', 'cfc114|o3', 'cfc115', 'cfc115|o3', 'cfc11|o3', 'cfc12', 'cfc12|o3', 'ch2cl2', 'ch2cl2|o3', 'ch3ccl3', 'ch3ccl3|o3', 'chcl3', 'chcl3|o3', 'co', 'co|o3', 'halon1202', 'halon1202|o3', 'halon1211', 'halon1211|o3', 'halon1301', 'halon1301|o3', 'halon2402', 'halon2402|o3', 'hcfc141b', 'hcfc141b|o3', 'hcfc142b', 'hcfc142b|o3', 'hcfc22', 'hcfc22|o3', 'hfc125', 'hfc134a', 'hfc143a', 'hfc152a', 'hfc227ea', 'hfc23', 'hfc236fa', 'hfc245fa', 'hfc32', 'hfc365mfc', 'hfc4310mee', 'methane', 'methane|strat_h2o', 'methane|o3', 'methyl_bromide', 'methyl_bromide|o3', 'methyl_chloride', 'methyl_chloride|o3', 'nf3', 'nh3', 'nitrous_oxide', 'nitrous_oxide|o3', 'nmvoc', 'nmvoc|o3', 'nox', 'nox_avi', 'nox_avi|contrails', 'nox|o3', 'oc', 'oc|aci', 'sf6', 'so2', 'so2f2', 'so2|aci'] forcing agents, between 0 and 100...\n"
     ]
    },
    {
     "name": "stderr",
     "output_type": "stream",
     "text": [
      "100%|██████████| 100/100 [00:00<00:00, 2376.07 timestep/s]\n"
     ]
    },
    {
     "data": {
      "text/plain": [
       "<AxesSubplot:xlabel='Year'>"
      ]
     },
     "execution_count": 12,
     "metadata": {},
     "output_type": "execute_result"
    },
    {
     "data": {
      "image/png": "[encoded data removed]",
      "text/plain": [
       "<Figure size 432x288 with 1 Axes>"
      ]
     },
     "metadata": {
      "needs_background": "light"
     },
     "output_type": "display_data"
    }
   ],
   "source": [
    "# A forcing-only run\n",
    "\n",
    "RF_only_test = return_empty_forcing(start_year=0,end_year=100,scen_names=['RF_only_Test'])\n",
    "\n",
    "## let's try a step change in RF\n",
    "\n",
    "RF_only_test.loc[10:20]=1\n",
    "\n",
    "RF_only_results = run_FaIR(emissions_in=return_empty_emissions(RF_only_test),forcing_in=RF_only_test)\n",
    "\n",
    "RF_only_results['T'].plot()"
   ]
  },
  {
   "cell_type": "markdown",
   "id": "understood-course",
   "metadata": {},
   "source": [
    "# Concentration-driven example"
   ]
  },
  {
   "cell_type": "code",
   "execution_count": 13,
   "id": "french-texture",
   "metadata": {},
   "outputs": [
    {
     "name": "stdout",
     "output_type": "stream",
     "text": [
      "Integrating 3 scenarios, 1 gas cycle parameter sets, 1 thermal response parameter sets, over ['carbon_dioxide', 'methane', 'nitrous_oxide'] forcing agents, between 0 and 160...\n"
     ]
    },
    {
     "name": "stderr",
     "output_type": "stream",
     "text": [
      "100%|██████████| 160/160 [00:00<00:00, 3642.33 timestep/s]\n"
     ]
    }
   ],
   "source": [
    "# A concentration-only run\n",
    "\n",
    "## The main bit to remember here is that FaIR is baselined at the pre-industrial concentration values!\n",
    "\n",
    "## Let's try a 1%/yr scenario for each gas:\n",
    "concentration_only_test = return_empty_emissions(df_to_copy=False, start_year=0, end_year=160, timestep=1, scen_names=[x+'_1%' for x in ['carbon_dioxide','methane','nitrous_oxide']], gases_in = ['carbon_dioxide','methane','nitrous_oxide'])\n",
    "\n",
    "# Baseline to pre-industrial values \n",
    "# start a 1%/yr increase in year 10\n",
    "for gas in ['carbon_dioxide','methane','nitrous_oxide']:\n",
    "    \n",
    "    concentration_only_test.loc[:,(slice(None),gas)] = get_gas_parameter_defaults().copy().loc['PI_conc',('default',gas)]\n",
    "    \n",
    "    concentration_only_test.loc[10:,(gas+'_1%',gas)] = concentration_only_test.loc[10,(gas+'_1%',gas)] * 1.01 ** (concentration_only_test.loc[10:].index-concentration_only_test.loc[10:].index[0])\n",
    "\n",
    "# Run the experiment:\n",
    "\n",
    "concentration_only_test_results = run_FaIR(concentrations_in=concentration_only_test,forcing_in=return_empty_forcing(concentration_only_test),gas_parameters=test_gas_parameters,thermal_parameters=test_thermal_parameters)"
   ]
  },
  {
   "cell_type": "code",
   "execution_count": 14,
   "id": "prompt-familiar",
   "metadata": {},
   "outputs": [
    {
     "data": {
      "text/plain": [
       "Text(0.5, 1.0, '1%/yr concentration increase temperatures')"
      ]
     },
     "execution_count": 14,
     "metadata": {},
     "output_type": "execute_result"
    },
    {
     "data": {
      "image/png": "[encoded data removed]",
      "text/plain": [
       "<Figure size 432x288 with 1 Axes>"
      ]
     },
     "metadata": {
      "needs_background": "light"
     },
     "output_type": "display_data"
    }
   ],
   "source": [
    "concentration_only_test_results['T'].plot()\n",
    "plt.title('1%/yr concentration increase temperatures')"
   ]
  },
  {
   "cell_type": "code",
   "execution_count": 15,
   "id": "accessible-hamburg",
   "metadata": {},
   "outputs": [
    {
     "data": {
      "text/plain": [
       "<matplotlib.legend.Legend at 0x7f5a90a61210>"
      ]
     },
     "execution_count": 15,
     "metadata": {},
     "output_type": "execute_result"
    },
    {
     "data": {
      "image/png": "[encoded data removed]",
      "text/plain": [
       "<Figure size 1080x360 with 3 Axes>"
      ]
     },
     "metadata": {
      "needs_background": "light"
     },
     "output_type": "display_data"
    }
   ],
   "source": [
    "# By default, when a concentration run is carried out, FaIR diagnoses the corresponding emissions required to obtain those concentrations:\n",
    "\n",
    "fig,ax = plt.subplots(1,3,figsize=(15,5))\n",
    "\n",
    "for i,gas in enumerate(['carbon_dioxide','methane','nitrous_oxide']):\n",
    "    \n",
    "    concentration_only_test_results['Emissions'].xs(gas,level=-1,axis=1).plot(ax=ax[i],legend=False)\n",
    "    \n",
    "ax[0].legend()"
   ]
  },
  {
   "cell_type": "markdown",
   "id": "phantom-apollo",
   "metadata": {},
   "source": [
    "## Parameter ensembles\n",
    "Much like how we can run multiple scenarios (as above) simultaneously in one run_FaIR call, we can also run multiple parameter sets by simply joining parameter dataframes together."
   ]
  },
  {
   "cell_type": "code",
   "execution_count": 16,
   "id": "eastern-infrastructure",
   "metadata": {},
   "outputs": [],
   "source": [
    "# for this example, we'll just run a single scenario with perturbed carbon cycle & climate response parameters\n",
    "\n",
    "## perturbing cc params\n",
    "base_cc_params = test_gas_parameters['default'][['carbon_dioxide']]\n",
    "pert_cc_params = []\n",
    "cc_param_sets = ['high_cc','medium_cc','low_cc']\n",
    "cc_r_param_change = [1.13,1,0.87]\n",
    "\n",
    "for i,cc_set in enumerate(cc_param_sets):\n",
    "    \n",
    "    param_set = base_cc_params.copy()\n",
    "    param_set.loc[['r0','rC','rT','rA']] *= cc_r_param_change[i]\n",
    "    pert_cc_params += [param_set]\n",
    "    \n",
    "pert_cc_params = pd.concat(pert_cc_params,axis=1,keys=cc_param_sets)"
   ]
  },
  {
   "cell_type": "code",
   "execution_count": 17,
   "id": "numeric-mongolia",
   "metadata": {},
   "outputs": [],
   "source": [
    "## perturbing climate response params\n",
    "resp_param_sets = ['high_clim','medium_clim','low_clim']\n",
    "ECS_vals = np.array([4.5,3,1.5])\n",
    "TCR_vals = np.array([3,2,1])\n",
    "RWF_vals = TCR_vals / ECS_vals\n",
    "\n",
    "pert_resp_params = pd.concat([get_thermal_parameter_defaults(TCR=TCR_vals[i],RWF=RWF_vals[i])['default'] for i in np.arange(3)],axis=1,keys=resp_param_sets)"
   ]
  },
  {
   "cell_type": "code",
   "execution_count": 18,
   "id": "bound-composer",
   "metadata": {},
   "outputs": [
    {
     "name": "stdout",
     "output_type": "stream",
     "text": [
      "Integrating 1 scenarios, 3 gas cycle parameter sets, 3 thermal response parameter sets, over ['carbon_dioxide'] forcing agents, between 0 and 500...\n"
     ]
    },
    {
     "name": "stderr",
     "output_type": "stream",
     "text": [
      "100%|██████████| 500/500 [00:00<00:00, 2421.07 timestep/s]\n"
     ]
    }
   ],
   "source": [
    "# we'll run a pulse-emission under these nine possible parameter combinations\n",
    "\n",
    "perturbed_param_scenarios = return_empty_emissions(start_year=0,end_year=500,scen_names=['100GtC_pulse'],gases_in=['carbon_dioxide'])\n",
    "perturbed_param_scenarios.iloc[1,0] = 100\n",
    "\n",
    "perturbed_parameter_example = run_FaIR(emissions_in=perturbed_param_scenarios,\n",
    "                                      gas_parameters=pert_cc_params,\n",
    "                                      thermal_parameters=pert_resp_params)"
   ]
  },
  {
   "cell_type": "code",
   "execution_count": 19,
   "id": "detailed-citizenship",
   "metadata": {},
   "outputs": [
    {
     "data": {
      "text/html": [
       "<div>\n",
       "<style scoped>\n",
       "    .dataframe tbody tr th:only-of-type {\n",
       "        vertical-align: middle;\n",
       "    }\n",
       "\n",
       "    .dataframe tbody tr th {\n",
       "        vertical-align: top;\n",
       "    }\n",
       "\n",
       "    .dataframe thead tr th {\n",
       "        text-align: left;\n",
       "    }\n",
       "\n",
       "    .dataframe thead tr:last-of-type th {\n",
       "        text-align: right;\n",
       "    }\n",
       "</style>\n",
       "<table border=\"1\" class=\"dataframe\">\n",
       "  <thead>\n",
       "    <tr>\n",
       "      <th>Scenario</th>\n",
       "      <th colspan=\"9\" halign=\"left\">100GtC_pulse</th>\n",
       "    </tr>\n",
       "    <tr>\n",
       "      <th>Gas cycle set</th>\n",
       "      <th colspan=\"3\" halign=\"left\">high_cc</th>\n",
       "      <th colspan=\"3\" halign=\"left\">medium_cc</th>\n",
       "      <th colspan=\"3\" halign=\"left\">low_cc</th>\n",
       "    </tr>\n",
       "    <tr>\n",
       "      <th>Thermal set</th>\n",
       "      <th>high_clim</th>\n",
       "      <th>medium_clim</th>\n",
       "      <th>low_clim</th>\n",
       "      <th>high_clim</th>\n",
       "      <th>medium_clim</th>\n",
       "      <th>low_clim</th>\n",
       "      <th>high_clim</th>\n",
       "      <th>medium_clim</th>\n",
       "      <th>low_clim</th>\n",
       "    </tr>\n",
       "    <tr>\n",
       "      <th>Year</th>\n",
       "      <th></th>\n",
       "      <th></th>\n",
       "      <th></th>\n",
       "      <th></th>\n",
       "      <th></th>\n",
       "      <th></th>\n",
       "      <th></th>\n",
       "      <th></th>\n",
       "      <th></th>\n",
       "    </tr>\n",
       "  </thead>\n",
       "  <tbody>\n",
       "    <tr>\n",
       "      <th>0</th>\n",
       "      <td>0.000000</td>\n",
       "      <td>0.000000</td>\n",
       "      <td>0.000000</td>\n",
       "      <td>0.000000</td>\n",
       "      <td>0.000000</td>\n",
       "      <td>0.000000</td>\n",
       "      <td>0.000000</td>\n",
       "      <td>0.000000</td>\n",
       "      <td>0.000000</td>\n",
       "    </tr>\n",
       "    <tr>\n",
       "      <th>1</th>\n",
       "      <td>0.038831</td>\n",
       "      <td>0.032129</td>\n",
       "      <td>0.025426</td>\n",
       "      <td>0.037414</td>\n",
       "      <td>0.030956</td>\n",
       "      <td>0.024498</td>\n",
       "      <td>0.035743</td>\n",
       "      <td>0.029573</td>\n",
       "      <td>0.023404</td>\n",
       "    </tr>\n",
       "    <tr>\n",
       "      <th>2</th>\n",
       "      <td>0.130400</td>\n",
       "      <td>0.105656</td>\n",
       "      <td>0.080916</td>\n",
       "      <td>0.124783</td>\n",
       "      <td>0.101091</td>\n",
       "      <td>0.077402</td>\n",
       "      <td>0.118597</td>\n",
       "      <td>0.096070</td>\n",
       "      <td>0.073547</td>\n",
       "    </tr>\n",
       "    <tr>\n",
       "      <th>3</th>\n",
       "      <td>0.207261</td>\n",
       "      <td>0.162486</td>\n",
       "      <td>0.117734</td>\n",
       "      <td>0.196557</td>\n",
       "      <td>0.154014</td>\n",
       "      <td>0.111490</td>\n",
       "      <td>0.185571</td>\n",
       "      <td>0.145352</td>\n",
       "      <td>0.105147</td>\n",
       "    </tr>\n",
       "    <tr>\n",
       "      <th>4</th>\n",
       "      <td>0.246013</td>\n",
       "      <td>0.185625</td>\n",
       "      <td>0.125293</td>\n",
       "      <td>0.231700</td>\n",
       "      <td>0.174668</td>\n",
       "      <td>0.117681</td>\n",
       "      <td>0.217613</td>\n",
       "      <td>0.163937</td>\n",
       "      <td>0.110298</td>\n",
       "    </tr>\n",
       "  </tbody>\n",
       "</table>\n",
       "</div>"
      ],
      "text/plain": [
       "Scenario      100GtC_pulse                                              \\\n",
       "Gas cycle set      high_cc                       medium_cc               \n",
       "Thermal set      high_clim medium_clim  low_clim high_clim medium_clim   \n",
       "Year                                                                     \n",
       "0                 0.000000    0.000000  0.000000  0.000000    0.000000   \n",
       "1                 0.038831    0.032129  0.025426  0.037414    0.030956   \n",
       "2                 0.130400    0.105656  0.080916  0.124783    0.101091   \n",
       "3                 0.207261    0.162486  0.117734  0.196557    0.154014   \n",
       "4                 0.246013    0.185625  0.125293  0.231700    0.174668   \n",
       "\n",
       "Scenario                                                 \n",
       "Gas cycle set              low_cc                        \n",
       "Thermal set    low_clim high_clim medium_clim  low_clim  \n",
       "Year                                                     \n",
       "0              0.000000  0.000000    0.000000  0.000000  \n",
       "1              0.024498  0.035743    0.029573  0.023404  \n",
       "2              0.077402  0.118597    0.096070  0.073547  \n",
       "3              0.111490  0.185571    0.145352  0.105147  \n",
       "4              0.117681  0.217613    0.163937  0.110298  "
      ]
     },
     "execution_count": 19,
     "metadata": {},
     "output_type": "execute_result"
    }
   ],
   "source": [
    "## example of what the output looks like:\n",
    "perturbed_parameter_example['T'].head()"
   ]
  },
  {
   "cell_type": "code",
   "execution_count": 20,
   "id": "cheap-imaging",
   "metadata": {},
   "outputs": [
    {
     "data": {
      "text/plain": [
       "Text(0.5, 1.0, 'Year 1 100GtC pulse temperature response under a range of carbon-cycle & climate response parameters')"
      ]
     },
     "execution_count": 20,
     "metadata": {},
     "output_type": "execute_result"
    },
    {
     "data": {
      "image/png": "[encoded data removed]",
      "text/plain": [
       "<Figure size 864x576 with 1 Axes>"
      ]
     },
     "metadata": {
      "needs_background": "light"
     },
     "output_type": "display_data"
    }
   ],
   "source": [
    "# here I'll just show how seaborn can give useful visualisations from FaIR output\n",
    "fig,ax = plt.subplots(figsize=(12,8))\n",
    "g=sn.lineplot(data=perturbed_parameter_example['T'].unstack().reset_index().rename({0:'T'},axis=1),\n",
    "              x='Year',y='T',\n",
    "              hue='Thermal set',\n",
    "              style='Gas cycle set',\n",
    "              palette='PuRd_r',\n",
    "              ax=ax)\n",
    "\n",
    "plt.title('Year 1 100GtC pulse temperature response under a range of carbon-cycle & climate response parameters')"
   ]
  },
  {
   "cell_type": "markdown",
   "id": "aquatic-sapphire",
   "metadata": {},
   "source": [
    "# End of example notebook\n",
    "There are additional features (eg. variable timestepping) that could be included at this point, but they are less supported and will not be used in other notebooks in this repository."
   ]
  }
 ],
 "metadata": {
  "kernelspec": {
   "display_name": "Python 3",
   "language": "python",
   "name": "python3"
  },
  "language_info": {
   "codemirror_mode": {
    "name": "ipython",
    "version": 3
   },
   "file_extension": ".py",
   "mimetype": "text/x-python",
   "name": "python",
   "nbconvert_exporter": "python",
   "pygments_lexer": "ipython3",
   "version": "3.7.6"
  }
 },
 "nbformat": 4,
 "nbformat_minor": 5
}
